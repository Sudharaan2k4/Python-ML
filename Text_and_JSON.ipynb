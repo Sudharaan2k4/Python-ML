{
 "cells": [
  {
   "cell_type": "code",
   "execution_count": 3,
   "id": "535e0524-e86b-4b80-9c0e-ae78255df43d",
   "metadata": {},
   "outputs": [],
   "source": [
    "# WRITE MODE\n",
    "d=open('C:/Users/TCS/Videos/ML/Text and json/OP.txt','w')\n",
    "d.write('1st line\\n')\n",
    "d.write('2nd line\\n')\n",
    "d.write('3rd line\\n')\n",
    "d.close()"
   ]
  },
  {
   "cell_type": "code",
   "execution_count": 5,
   "id": "017e4382-5b18-4465-8097-b8917f7af3a4",
   "metadata": {},
   "outputs": [
    {
     "name": "stdout",
     "output_type": "stream",
     "text": [
      "1st line\n",
      "\n",
      "2nd line\n",
      "\n",
      "3rd line\n",
      "\n"
     ]
    }
   ],
   "source": [
    "#READ MODE\n",
    "k=open('C:/Users/TCS/Videos/ML/Text and json/OP.txt','r')\n",
    "print(k.readline())\n",
    "print(k.readline())\n",
    "print(k.readline())\n",
    "k.close()"
   ]
  },
  {
   "cell_type": "code",
   "execution_count": 13,
   "id": "0cad0191-accc-4126-8379-36ebde2d76d3",
   "metadata": {},
   "outputs": [],
   "source": [
    "#APPEND NEW FILE TO THE PREVIOUS FILE\n",
    "m=open('C:/Users/TCS/Videos/ML/Text and json/OP.txt','a')\n",
    "m.write('4TH line\\n')\n",
    "m.write('5th line\\n')\n",
    "m.close()"
   ]
  },
  {
   "cell_type": "code",
   "execution_count": 14,
   "id": "a76bbfb0-0518-42e5-b9df-23fe17785375",
   "metadata": {},
   "outputs": [
    {
     "name": "stdout",
     "output_type": "stream",
     "text": [
      "1st line\n",
      "2nd line\n",
      "3rd line\n",
      "4TH line5th line4TH line5th line4TH line\n",
      "5th line\n",
      "4TH line\n",
      "5th line\n",
      "4TH line\n",
      "5th line\n",
      "4TH line\n",
      "5th line\n",
      "4TH line\n",
      "5th line\n",
      "4TH line\n",
      "5th line\n",
      "\n"
     ]
    }
   ],
   "source": [
    "#opening in read mode and printing full available text\n",
    "p=open('C:/Users/TCS/Videos/ML/Text and json/OP.txt','r')\n",
    "print(p.read())\n",
    "p.close()\n"
   ]
  },
  {
   "cell_type": "code",
   "execution_count": 7,
   "id": "fc7d0602-196d-4574-a477-c5c576191af0",
   "metadata": {},
   "outputs": [
    {
     "name": "stdout",
     "output_type": "stream",
     "text": [
      "30\n"
     ]
    }
   ],
   "source": [
    "import json\n",
    "x='{\"name\":\"John\",\"age\":30,\"city\":\"NY\"}'\n",
    "y=json.loads(x)\n",
    "print(y[\"age\"])\n",
    "#"
   ]
  },
  {
   "cell_type": "code",
   "execution_count": 8,
   "id": "eea2bbdf-17e8-4c14-b9b0-4e1bddc05e7a",
   "metadata": {},
   "outputs": [
    {
     "name": "stdout",
     "output_type": "stream",
     "text": [
      "\"{\\\"name\\\":\\\"John\\\",\\\"age\\\":30,\\\"city\\\":\\\"NY\\\"}\"\n"
     ]
    }
   ],
   "source": [
    "import json\n",
    "x='{\"name\":\"John\",\"age\":30,\"city\":\"NY\"}'\n",
    "y=json.dumps(x)\n",
    "print(y)\n"
   ]
  }
 ],
 "metadata": {
  "kernelspec": {
   "display_name": "Python 3 (ipykernel)",
   "language": "python",
   "name": "python3"
  },
  "language_info": {
   "codemirror_mode": {
    "name": "ipython",
    "version": 3
   },
   "file_extension": ".py",
   "mimetype": "text/x-python",
   "name": "python",
   "nbconvert_exporter": "python",
   "pygments_lexer": "ipython3",
   "version": "3.11.7"
  }
 },
 "nbformat": 4,
 "nbformat_minor": 5
}
