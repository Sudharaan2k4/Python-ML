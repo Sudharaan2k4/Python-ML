{
 "cells": [
  {
   "cell_type": "code",
   "execution_count": 2,
   "id": "e3bdbc57-d61a-4db0-b15e-d5009b462526",
   "metadata": {},
   "outputs": [
    {
     "name": "stdout",
     "output_type": "stream",
     "text": [
      "Empty DataFrame\n",
      "Columns: []\n",
      "Index: []\n"
     ]
    }
   ],
   "source": [
    "import pandas as pd\n",
    "d=pd.DataFrame()\n",
    "print(d)#creating empty data set"
   ]
  },
  {
   "cell_type": "code",
   "execution_count": 12,
   "id": "57adad60-b2cb-48fa-b21d-99fd28ddd7c0",
   "metadata": {},
   "outputs": [
    {
     "name": "stdout",
     "output_type": "stream",
     "text": [
      "    PER  ID\n",
      "0   Pal   1\n",
      "1  Rock   2\n",
      "2   Bad   3\n"
     ]
    }
   ],
   "source": [
    "per=pd.Series(['Pal','Rock','Bad'])\n",
    "id=pd.Series([1,2,3])\n",
    "res={'PER':per,'ID':id}\n",
    "result=pd.DataFrame(res)\n",
    "print(result)"
   ]
  },
  {
   "cell_type": "code",
   "execution_count": 13,
   "id": "4b189ff1-3609-44c0-95b1-83c0b515970d",
   "metadata": {},
   "outputs": [
    {
     "name": "stdout",
     "output_type": "stream",
     "text": [
      "0     Pal\n",
      "1    Rock\n",
      "2     Bad\n",
      "Name: PER, dtype: object\n"
     ]
    }
   ],
   "source": [
    "print(result['PER']) #Extracting one column"
   ]
  },
  {
   "cell_type": "code",
   "execution_count": 15,
   "id": "04dddd2c-6c36-468d-9a37-416e54997848",
   "metadata": {},
   "outputs": [
    {
     "name": "stdout",
     "output_type": "stream",
     "text": [
      "    PER  ID  Age\n",
      "0   Pal   1   35\n",
      "1  Rock   2   24\n",
      "2   Bad   3   40\n"
     ]
    }
   ],
   "source": [
    "result['Age']=pd.Series([35,24,20])\n",
    "print(result)\n",
    "#Adding a column"
   ]
  },
  {
   "cell_type": "code",
   "execution_count": 17,
   "id": "bdec90c0-7a19-45b9-8c92-6dacd664ce46",
   "metadata": {},
   "outputs": [
    {
     "name": "stdout",
     "output_type": "stream",
     "text": [
      "    PER  ID\n",
      "0   Pal   1\n",
      "1  Rock   2\n",
      "2   Bad   3\n"
     ]
    }
   ],
   "source": [
    "del result['Age']\n",
    "print(result)\n",
    "#Deleting a column"
   ]
  },
  {
   "cell_type": "code",
   "execution_count": 18,
   "id": "97ea584e-a132-4cfb-bcfb-17c723caf89b",
   "metadata": {},
   "outputs": [
    {
     "name": "stdout",
     "output_type": "stream",
     "text": [
      "PER    Pal\n",
      "ID       1\n",
      "Name: 0, dtype: object\n"
     ]
    }
   ],
   "source": [
    "print(result.loc[0])#Extracting the 1st row"
   ]
  },
  {
   "cell_type": "code",
   "execution_count": 19,
   "id": "1919d158-41e1-477c-b2a6-2a5064db6e49",
   "metadata": {},
   "outputs": [
    {
     "name": "stdout",
     "output_type": "stream",
     "text": [
      "    PER  ID\n",
      "1  Rock   2\n",
      "2   Bad   3\n"
     ]
    }
   ],
   "source": [
    "print(result[1:3])#Slicing"
   ]
  },
  {
   "cell_type": "code",
   "execution_count": 18,
   "id": "461a429a-08c7-48c6-a080-e0ad13e31001",
   "metadata": {},
   "outputs": [
    {
     "name": "stdout",
     "output_type": "stream",
     "text": [
      "   Name  ID\n",
      "0  Mark  10\n",
      "1  Ross  11\n",
      "   Name  ID\n",
      "0  Mark  10\n"
     ]
    }
   ],
   "source": [
    "import pandas as pd\n",
    "d2=pd.DataFrame([['Mark',10],['Ross',11]],columns=['Name','ID'])\n",
    "print(d2)#Adding new rows\n",
    "print(d2.drop(1))"
   ]
  },
  {
   "cell_type": "code",
   "execution_count": null,
   "id": "214a0824-4861-4483-a7d8-089dbcd2e50c",
   "metadata": {},
   "outputs": [],
   "source": [
    "\n",
    "\n",
    "////////////////////////////////////////////////////////////////////////////////"
   ]
  },
  {
   "cell_type": "code",
   "execution_count": null,
   "id": "0fb82167-215c-4ff0-aff0-f1a88c8c1787",
   "metadata": {},
   "outputs": [],
   "source": [
    "27.07.2024                             DATA FRAME- FUNCTIONS"
   ]
  },
  {
   "cell_type": "code",
   "execution_count": 19,
   "id": "446e6c77-77ec-472c-9cdf-ec1c5d4bdb9e",
   "metadata": {},
   "outputs": [
    {
     "name": "stdout",
     "output_type": "stream",
     "text": [
      "   P  Q\n",
      "0  2  7\n",
      "1  2  7\n",
      "2  2  7\n"
     ]
    }
   ],
   "source": [
    "import numpy as np\n",
    "import pandas as pd\n",
    "info=pd.DataFrame([[2,7]]*3,columns=['P','Q'])\n",
    "print(info) #Creating a data frame"
   ]
  },
  {
   "cell_type": "code",
   "execution_count": 20,
   "id": "e08c0c11-b983-418a-aab2-c72825be5495",
   "metadata": {},
   "outputs": [
    {
     "name": "stdout",
     "output_type": "stream",
     "text": [
      "          P         Q\n",
      "0  1.414214  2.645751\n",
      "1  1.414214  2.645751\n",
      "2  1.414214  2.645751\n"
     ]
    }
   ],
   "source": [
    "print(info.apply(np.sqrt))#Square root"
   ]
  },
  {
   "cell_type": "code",
   "execution_count": 27,
   "id": "38108e5a-7e11-49f1-b025-a2a2aa9f1e90",
   "metadata": {},
   "outputs": [
    {
     "name": "stdout",
     "output_type": "stream",
     "text": [
      "P     6\n",
      "Q    21\n",
      "dtype: int64\n",
      "0    9\n",
      "1    9\n",
      "2    9\n",
      "dtype: int64\n"
     ]
    }
   ],
   "source": [
    "print(info.apply(np.sum,axis=0)) #Sum of each column\n",
    "print(info.apply(np.sum,axis=1)) #Sum of each row"
   ]
  },
  {
   "cell_type": "code",
   "execution_count": 28,
   "id": "ba121fcb-a1f0-4ca4-a72f-67cb97245eb9",
   "metadata": {},
   "outputs": [
    {
     "name": "stdout",
     "output_type": "stream",
     "text": [
      "   X  Y  Z\n",
      "0  1  5  7\n",
      "1  2  7  8\n",
      "2  3  6  9\n",
      "     X  Y  Z\n",
      "min  1  5  7\n",
      "max  3  7  9\n"
     ]
    }
   ],
   "source": [
    "num=pd.DataFrame([[1,5,7],[2,7,8],[3,6,9]],columns=['X','Y','Z'])\n",
    "print(num)\n",
    "print(num.agg(['min','max'])) # Maximum and Minimum"
   ]
  },
  {
   "cell_type": "code",
   "execution_count": 37,
   "id": "89e37bf0-d788-4dab-894f-79b739f3b655",
   "metadata": {},
   "outputs": [
    {
     "name": "stdout",
     "output_type": "stream",
     "text": [
      "    Emp   ID\n",
      "0  Dale  123\n",
      "1  Mark  143\n",
      "2  Rock  150\n",
      "    Emp   ID  Age\n",
      "0  Dale  123   23\n",
      "1  Mark  143   24\n",
      "2  Rock  150   21\n",
      "    Emp   ID  Age  Grade\n",
      "0  Dale  123   23    7.0\n",
      "1  Mark  143   24    7.7\n",
      "2  Rock  150   21    8.0\n"
     ]
    }
   ],
   "source": [
    "d=pd.DataFrame([['Dale',123],['Mark',143],['Rock',150]],columns=['Emp','ID'])\n",
    "print(d)\n",
    "d['Age']=[23,24,21]#Creating new column\n",
    "print(d)\n",
    "d2=d.assign(Grade=[7,7.7,8])\n",
    "print(d2)#Creating new column"
   ]
  },
  {
   "cell_type": "code",
   "execution_count": 43,
   "id": "934d306d-960b-4354-84d1-8809182c4e42",
   "metadata": {},
   "outputs": [
    {
     "name": "stdout",
     "output_type": "stream",
     "text": [
      "       col3      col4\n",
      "3  1.582669  1.224853\n",
      "2 -0.111798  0.985797\n",
      "0  2.267390 -0.333678\n",
      "4  0.799563  0.439787\n",
      "1 -1.691900 -0.153852\n",
      "       col3      col4\n",
      "0  2.267390 -0.333678\n",
      "1 -1.691900 -0.153852\n",
      "2 -0.111798  0.985797\n",
      "3  1.582669  1.224853\n",
      "4  0.799563  0.439787\n",
      "       col3      col4\n",
      "1 -1.691900 -0.153852\n",
      "2 -0.111798  0.985797\n",
      "4  0.799563  0.439787\n",
      "3  1.582669  1.224853\n",
      "0  2.267390 -0.333678\n"
     ]
    }
   ],
   "source": [
    "#SORT FUNCTION\n",
    "info=pd.DataFrame(np.random.randn(5,2),index=[3,2,0,4,1],columns=['col3','col4'])\n",
    "print(info)\n",
    "\n",
    "srt=info.sort_index() #Sorting through index\n",
    "print(srt)\n",
    "\n",
    "srt2=info.sort_values(by='col3')\n",
    "print(srt2)#Sort through numericals\n"
   ]
  },
  {
   "cell_type": "code",
   "execution_count": 50,
   "id": "c58a172b-6a7a-406a-8147-8f02c4cfdd8d",
   "metadata": {},
   "outputs": [
    {
     "name": "stdout",
     "output_type": "stream",
     "text": [
      "   id    Name   sub\n",
      "0   1    Alex  sub1\n",
      "1   2     Amy  sub2\n",
      "2   3   Allen  sub4\n",
      "3   4   Alice  sub6\n",
      "4   5  Ayoung  sub5\n"
     ]
    }
   ],
   "source": [
    "#MERGE\n",
    "left=pd.DataFrame({'id':[1,2,3,4,5],'Name':['Alex','Amy','Allen','Alice','Ayoung'],'sub':['sub1','sub2','sub4','sub6','sub5']})\n",
    "print(left)\n"
   ]
  },
  {
   "cell_type": "code",
   "execution_count": 57,
   "id": "b8dca8a6-8daf-4479-a18d-45dd2f6146aa",
   "metadata": {},
   "outputs": [
    {
     "name": "stdout",
     "output_type": "stream",
     "text": [
      "   id   Name   sub\n",
      "0   1  Billy  sub2\n",
      "1   2  Brain  sub4\n",
      "2   3   Bran  sub3\n",
      "3   4  Bryce  sub6\n",
      "4   5  Betty  sub5\n"
     ]
    }
   ],
   "source": [
    "r=pd.DataFrame({'id':[1,2,3,4,5],'Name':['Billy','Brain','Bran','Bryce','Betty'],'sub':['sub2','sub4','sub3','sub6','sub5']})\n",
    "print(r)"
   ]
  },
  {
   "cell_type": "code",
   "execution_count": 58,
   "id": "298fcd2f-6cf5-4015-879a-902cc791ff30",
   "metadata": {},
   "outputs": [
    {
     "name": "stdout",
     "output_type": "stream",
     "text": [
      "   id  Name_x sub_x Name_y sub_y\n",
      "0   1    Alex  sub1  Billy  sub2\n",
      "1   2     Amy  sub2  Brain  sub4\n",
      "2   3   Allen  sub4   Bran  sub3\n",
      "3   4   Alice  sub6  Bryce  sub6\n",
      "4   5  Ayoung  sub5  Betty  sub5\n"
     ]
    }
   ],
   "source": [
    "print(pd.merge(left,r,on='id'))"
   ]
  },
  {
   "cell_type": "code",
   "execution_count": null,
   "id": "a00bb513-0e7a-44f0-ae7d-10af37f642b5",
   "metadata": {},
   "outputs": [],
   "source": [
    "////////////////////////////////////////////////  PANDA SERIES /////////////////////"
   ]
  },
  {
   "cell_type": "code",
   "execution_count": 60,
   "id": "69a74194-31ac-4c63-8e8b-c8e63a7ff90a",
   "metadata": {},
   "outputs": [
    {
     "name": "stdout",
     "output_type": "stream",
     "text": [
      "0    p\n",
      "1    a\n",
      "2    n\n",
      "dtype: object\n"
     ]
    }
   ],
   "source": [
    "import numpy as np\n",
    "import pandas as pd\n",
    "arr=np.array(['p','a','n']) #Creating Series as Arrays\n",
    "a=pd.Series(arr)\n",
    "print(a)"
   ]
  },
  {
   "cell_type": "code",
   "execution_count": 62,
   "id": "ddcd84a1-47d6-41e2-9177-7ace80de1bf0",
   "metadata": {},
   "outputs": [
    {
     "name": "stdout",
     "output_type": "stream",
     "text": [
      "x    0\n",
      "y    1\n",
      "z    2\n",
      "dtype: int64\n"
     ]
    }
   ],
   "source": [
    "arr1={'x':0,'y':1,'z':2} #Creating Series from dictionary\n",
    "b=pd.Series(arr1)\n",
    "print(b)"
   ]
  },
  {
   "cell_type": "code",
   "execution_count": 63,
   "id": "0c7304e9-036d-48af-8d20-4621f5ab4ccc",
   "metadata": {},
   "outputs": [
    {
     "name": "stdout",
     "output_type": "stream",
     "text": [
      "0    4\n",
      "1    4\n",
      "2    4\n",
      "3    4\n",
      "dtype: int64\n"
     ]
    }
   ],
   "source": [
    "arr2=pd.Series(4,index=[0,1,2,3])#Series using scalar\n",
    "print(arr2)"
   ]
  },
  {
   "cell_type": "code",
   "execution_count": 64,
   "id": "b6d480f0-3139-4d84-8224-c67fcc6ab4e6",
   "metadata": {},
   "outputs": [
    {
     "name": "stdout",
     "output_type": "stream",
     "text": [
      "p    1\n",
      "d    2\n",
      "f    3\n",
      "dtype: int64\n"
     ]
    }
   ],
   "source": [
    "c=pd.Series([1,2,3],index=['p','d','f'])#Series through index\n",
    "print(c)"
   ]
  },
  {
   "cell_type": "code",
   "execution_count": 66,
   "id": "b09331b2-94fa-4dec-ae20-dc0af73d1280",
   "metadata": {},
   "outputs": [
    {
     "name": "stdout",
     "output_type": "stream",
     "text": [
      "0    1\n",
      "1    2\n",
      "2    3\n",
      "3    4\n",
      "dtype: int64\n",
      "index: RangeIndex(start=0, stop=4, step=1)\n",
      "values: [1 2 3 4]\n",
      "shape: (4,)\n",
      "ndim: 1\n",
      "size: 4\n"
     ]
    }
   ],
   "source": [
    "o=pd.Series(data=[1,2,3,4])\n",
    "print(o)\n",
    "print(\"index:\",o.index)\n",
    "print(\"values:\",o.values)\n",
    "print(\"shape:\",o.shape)\n",
    "print(\"ndim:\",o.ndim)\n",
    "print(\"size:\",o.size)"
   ]
  }
 ],
 "metadata": {
  "kernelspec": {
   "display_name": "Python 3 (ipykernel)",
   "language": "python",
   "name": "python3"
  },
  "language_info": {
   "codemirror_mode": {
    "name": "ipython",
    "version": 3
   },
   "file_extension": ".py",
   "mimetype": "text/x-python",
   "name": "python",
   "nbconvert_exporter": "python",
   "pygments_lexer": "ipython3",
   "version": "3.11.7"
  }
 },
 "nbformat": 4,
 "nbformat_minor": 5
}
