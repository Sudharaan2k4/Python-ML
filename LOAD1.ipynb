{
 "cells": [
  {
   "cell_type": "code",
   "execution_count": 3,
   "id": "b807d477-550c-4c17-a5c4-0754fc0e4075",
   "metadata": {},
   "outputs": [
    {
     "name": "stdout",
     "output_type": "stream",
     "text": [
      "    First Name  Gender  Start Date Last Login Time  Salary  Bonus %  \\\n",
      "0      Douglas    Male    8/6/1993        12:42 PM   97308    6.945   \n",
      "1       Thomas    Male   3/31/1996         6:53 AM   61933    4.170   \n",
      "2        Maria  Female   4/23/1993        11:17 AM  130590   11.858   \n",
      "3        Jerry    Male    3/4/2005         1:00 PM  138705    9.340   \n",
      "4        Larry    Male   1/24/1998         4:47 PM  101004    1.389   \n",
      "..         ...     ...         ...             ...     ...      ...   \n",
      "995      Henry     NaN  11/23/2014         6:09 AM  132483   16.655   \n",
      "996    Phillip    Male   1/31/1984         6:30 AM   42392   19.675   \n",
      "997    Russell    Male   5/20/2013        12:39 PM   96914    1.421   \n",
      "998      Larry    Male   4/20/2013         4:45 PM   60500   11.985   \n",
      "999     Albert    Male   5/15/2012         6:24 PM  129949   10.169   \n",
      "\n",
      "    Senior Management                  Team  \n",
      "0                True             Marketing  \n",
      "1                True                   NaN  \n",
      "2               False               Finance  \n",
      "3                True               Finance  \n",
      "4                True       Client Services  \n",
      "..                ...                   ...  \n",
      "995             False          Distribution  \n",
      "996             False               Finance  \n",
      "997             False               Product  \n",
      "998             False  Business Development  \n",
      "999              True                 Sales  \n",
      "\n",
      "[1000 rows x 8 columns]\n"
     ]
    }
   ],
   "source": [
    "'''LOAD'''\n",
    "import pandas as pd\n",
    "import numpy as np\n",
    "\n",
    "d=pd.read_csv(r\"C:\\Users\\TCS\\Videos\\ML\\Load\\employees - employees.csv\")\n",
    "print(d)"
   ]
  },
  {
   "cell_type": "code",
   "execution_count": 5,
   "id": "9e35a800-8f3f-4779-8f8f-2dc23dd28c98",
   "metadata": {},
   "outputs": [
    {
     "name": "stdout",
     "output_type": "stream",
     "text": [
      "Index(['First Name', 'Gender', 'Start Date', 'Last Login Time', 'Salary',\n",
      "       'Bonus %', 'Senior Management', 'Team'],\n",
      "      dtype='object')\n"
     ]
    }
   ],
   "source": [
    "df=pd.DataFrame(d)\n",
    "print(df.columns)#Prints Column heading"
   ]
  },
  {
   "cell_type": "code",
   "execution_count": 6,
   "id": "ebb22512-988f-48f0-b390-480ca3e88574",
   "metadata": {},
   "outputs": [
    {
     "name": "stdout",
     "output_type": "stream",
     "text": [
      "(1000, 8)\n"
     ]
    }
   ],
   "source": [
    "print(df.shape)#prints no of rows and columns"
   ]
  },
  {
   "cell_type": "code",
   "execution_count": 8,
   "id": "e3d1b3c9-0eee-47c3-9fd4-21f2cd3181b9",
   "metadata": {},
   "outputs": [
    {
     "name": "stdout",
     "output_type": "stream",
     "text": [
      "0        Male\n",
      "1        Male\n",
      "2      Female\n",
      "3        Male\n",
      "4        Male\n",
      "        ...  \n",
      "995       NaN\n",
      "996      Male\n",
      "997      Male\n",
      "998      Male\n",
      "999      Male\n",
      "Name: Gender, Length: 1000, dtype: object\n"
     ]
    }
   ],
   "source": [
    "print(df['Gender'])#To get particular value"
   ]
  },
  {
   "cell_type": "code",
   "execution_count": 9,
   "id": "972a3f7f-7637-4a44-82af-49f6e5d68659",
   "metadata": {},
   "outputs": [
    {
     "name": "stdout",
     "output_type": "stream",
     "text": [
      "  First Name  Gender Start Date Last Login Time  Salary  Bonus %  \\\n",
      "2      Maria  Female  4/23/1993        11:17 AM  130590   11.858   \n",
      "3      Jerry    Male   3/4/2005         1:00 PM  138705    9.340   \n",
      "4      Larry    Male  1/24/1998         4:47 PM  101004    1.389   \n",
      "\n",
      "  Senior Management             Team  \n",
      "2             False          Finance  \n",
      "3              True          Finance  \n",
      "4              True  Client Services  \n"
     ]
    }
   ],
   "source": [
    "print(df[2:5])#To Extract or Slice the table values"
   ]
  },
  {
   "cell_type": "code",
   "execution_count": 10,
   "id": "bbebe35c-b362-4d07-9a88-1a114a09ab44",
   "metadata": {},
   "outputs": [
    {
     "name": "stdout",
     "output_type": "stream",
     "text": [
      "First Name                 NaN\n",
      "Gender                  Female\n",
      "Start Date           7/20/2015\n",
      "Last Login Time       10:43 AM\n",
      "Salary                   45906\n",
      "Bonus %                 11.598\n",
      "Senior Management          NaN\n",
      "Team                   Finance\n",
      "Name: 7, dtype: object\n"
     ]
    }
   ],
   "source": [
    "print(df.loc[7])#To get particular values through row identification"
   ]
  },
  {
   "cell_type": "code",
   "execution_count": 47,
   "id": "2f212b2e-6905-401a-8bd1-48edb750af2b",
   "metadata": {},
   "outputs": [
    {
     "name": "stdout",
     "output_type": "stream",
     "text": [
      "    First Name  Gender  Start Date Last Login Time  Salary  Bonus %  \\\n",
      "0      Douglas    Male    8/6/1993        12:42 PM   97308    6.945   \n",
      "1       Thomas    Male   3/31/1996         6:53 AM   61933    4.170   \n",
      "2        Maria  Female   4/23/1993        11:17 AM  130590   11.858   \n",
      "3        Jerry    Male    3/4/2005         1:00 PM  138705    9.340   \n",
      "4        Larry    Male   1/24/1998         4:47 PM  101004    1.389   \n",
      "..         ...     ...         ...             ...     ...      ...   \n",
      "995      Henry     NaN  11/23/2014         6:09 AM  132483   16.655   \n",
      "996    Phillip    Male   1/31/1984         6:30 AM   42392   19.675   \n",
      "997    Russell    Male   5/20/2013        12:39 PM   96914    1.421   \n",
      "998      Larry    Male   4/20/2013         4:45 PM   60500   11.985   \n",
      "999     Albert    Male   5/15/2012         6:24 PM  129949   10.169   \n",
      "\n",
      "    Senior Management                  Team  \n",
      "0                True             Marketing  \n",
      "1                True                   NaN  \n",
      "2               False               Finance  \n",
      "3                True               Finance  \n",
      "4                True       Client Services  \n",
      "..                ...                   ...  \n",
      "995             False          Distribution  \n",
      "996             False               Finance  \n",
      "997             False               Product  \n",
      "998             False  Business Development  \n",
      "999              True                 Sales  \n",
      "\n",
      "[1000 rows x 8 columns]\n",
      "Empty DataFrame\n",
      "Columns: [First Name, Gender, Start Date, Last Login Time, Salary, Bonus %, Senior Management, Team]\n",
      "Index: []\n"
     ]
    }
   ],
   "source": [
    "import pandas as pd\n",
    "import numpy as np\n",
    "\n",
    "d=pd.read_csv(r\"C:\\Users\\TCS\\Videos\\ML\\Load\\employees - employees.csv\")\n",
    "df=pd.DataFrame(d)\n",
    "print(df)\n",
    "\n",
    "#print(df.loc[8])\n",
    "print(d.loc[d['Salary']==4])"
   ]
  },
  {
   "cell_type": "code",
   "execution_count": 48,
   "id": "6d9df9c5-a43a-4ed2-bd63-4cf547256483",
   "metadata": {},
   "outputs": [
    {
     "name": "stdout",
     "output_type": "stream",
     "text": [
      "0      1.3890\n",
      "1      0.8340\n",
      "2      2.3716\n",
      "3      1.8680\n",
      "4      0.2778\n",
      "        ...  \n",
      "995    3.3310\n",
      "996    3.9350\n",
      "997    0.2842\n",
      "998    2.3970\n",
      "999    2.0338\n",
      "Name: Bonus %, Length: 1000, dtype: float64\n"
     ]
    }
   ],
   "source": [
    "df=d['Bonus %']/5\n",
    "print(df) #Calculating Bonus Average"
   ]
  },
  {
   "cell_type": "code",
   "execution_count": null,
   "id": "6847fb03-4b1c-4b1c-8a5e-b33442cd1e27",
   "metadata": {},
   "outputs": [],
   "source": []
  }
 ],
 "metadata": {
  "kernelspec": {
   "display_name": "Python 3 (ipykernel)",
   "language": "python",
   "name": "python3"
  },
  "language_info": {
   "codemirror_mode": {
    "name": "ipython",
    "version": 3
   },
   "file_extension": ".py",
   "mimetype": "text/x-python",
   "name": "python",
   "nbconvert_exporter": "python",
   "pygments_lexer": "ipython3",
   "version": "3.11.7"
  }
 },
 "nbformat": 4,
 "nbformat_minor": 5
}
