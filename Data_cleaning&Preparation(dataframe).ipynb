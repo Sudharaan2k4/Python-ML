{
 "cells": [
  {
   "cell_type": "code",
   "execution_count": 3,
   "id": "3f1ed6ea-029d-4de1-838f-d8f475706db2",
   "metadata": {},
   "outputs": [
    {
     "name": "stdout",
     "output_type": "stream",
     "text": [
      "Original dataframe with NAN \n",
      "         one       two     three\n",
      "a  0.254325 -0.270105  0.216457\n",
      "b       NaN       NaN       NaN\n",
      "c  1.703515 -1.152511 -0.284637\n",
      "d       NaN       NaN       NaN\n",
      "e -1.187178 -1.350827 -1.499830\n",
      "f -1.470147 -1.158407  0.677321\n",
      "g       NaN       NaN       NaN\n",
      "h  1.260432 -1.954604  1.873601\n",
      "\n",
      "\n",
      "Dropped Dataframe\n",
      "         one       two     three\n",
      "a  0.254325 -0.270105  0.216457\n",
      "c  1.703515 -1.152511 -0.284637\n",
      "e -1.187178 -1.350827 -1.499830\n",
      "f -1.470147 -1.158407  0.677321\n",
      "h  1.260432 -1.954604  1.873601\n"
     ]
    }
   ],
   "source": [
    "import pandas as pd\n",
    "import numpy as np\n",
    "\n",
    "df=pd.DataFrame(np.random.randn(5,3),index=['a','c','e','f','h'],columns=['one','two','three'])\n",
    "df=df.reindex(['a','b','c','d','e','f','g','h'])\n",
    "print(\"Original dataframe with NAN \\n\",df)\n",
    "print(\"\\n\")\n",
    "print(\"Dropped Dataframe\\n\",df.dropna())\n"
   ]
  },
  {
   "cell_type": "code",
   "execution_count": 5,
   "id": "e448b544-f3ac-475b-8cf3-14a90ddf2869",
   "metadata": {},
   "outputs": [
    {
     "name": "stdout",
     "output_type": "stream",
     "text": [
      "Original dataframe:\n",
      "         one       two     three\n",
      "a -1.367171 -0.302599  0.324289\n",
      "b       NaN       NaN       NaN\n",
      "c -0.207311  0.756679 -0.166820\n",
      "\n",
      "\n",
      "NaN replaced with 'O':\n",
      "\n",
      "        one       two     three\n",
      "a -1.367171 -0.302599  0.324289\n",
      "b  0.000000  0.000000  0.000000\n",
      "c -0.207311  0.756679 -0.166820\n"
     ]
    }
   ],
   "source": [
    "df=pd.DataFrame(np.random.randn(3,3),index=['a','c','e'],columns=['one','two','three'])\n",
    "df=df.reindex(['a','b','c'])\n",
    "print(\"Original dataframe:\\n\",df)\n",
    "print(\"\\n\")\n",
    "print(\"NaN replaced with 'O':\\n\")\n",
    "print(df.fillna(0))"
   ]
  },
  {
   "cell_type": "code",
   "execution_count": 6,
   "id": "d800da3b-a1c0-4e73-8f50-dc23d55907b4",
   "metadata": {},
   "outputs": [
    {
     "name": "stdout",
     "output_type": "stream",
     "text": [
      "\n",
      "Original Dataframe:\n",
      "    one   two\n",
      "0   10  1000\n",
      "1   20     0\n",
      "2   30    30\n",
      "3   40    40\n",
      "4   50    50\n",
      "5  200    60\n",
      "\n",
      " DataFrame with replaced values:\n",
      "\n",
      "   one  two\n",
      "0   10   10\n",
      "1   20  100\n",
      "2   30   30\n",
      "3  400  400\n",
      "4   50   50\n",
      "5  200   60\n"
     ]
    }
   ],
   "source": [
    "df=pd.DataFrame({'one':[10,20,30,40,50,200],'two':[1000,0,30,40,50,60]})\n",
    "print(\"\\nOriginal Dataframe:\\n\",df)\n",
    "print(\"\\n DataFrame with replaced values:\\n\")\n",
    "print(df.replace({1000:10,2000:60,40:400,0:100}))"
   ]
  },
  {
   "cell_type": "code",
   "execution_count": 7,
   "id": "f62768ad-f733-4bb0-9135-08cab080e374",
   "metadata": {},
   "outputs": [
    {
     "name": "stdout",
     "output_type": "stream",
     "text": [
      "\n",
      "Original DataFrame:\n",
      "         one       two     three\n",
      "a -0.306268  1.508422 -0.777255\n",
      "b       NaN       NaN       NaN\n",
      "c -0.308485  0.112959  1.845124\n",
      "d       NaN       NaN       NaN\n",
      "e -1.400140 -0.139221 -0.488573\n",
      "f -1.023274  0.176940  0.112514\n",
      "g       NaN       NaN       NaN\n",
      "h  1.109154 -1.848553  1.436655\n",
      "\n",
      " NaN-Filled with forward values:\n",
      "\n",
      "        one       two     three\n",
      "a -0.306268  1.508422 -0.777255\n",
      "b -0.306268  1.508422 -0.777255\n",
      "c -0.308485  0.112959  1.845124\n",
      "d -0.308485  0.112959  1.845124\n",
      "e -1.400140 -0.139221 -0.488573\n",
      "f -1.023274  0.176940  0.112514\n",
      "g -1.023274  0.176940  0.112514\n",
      "h  1.109154 -1.848553  1.436655\n",
      "\n",
      "NaN-Filled with Background values:\n",
      "\n",
      "        one       two     three\n",
      "a -0.306268  1.508422 -0.777255\n",
      "b -0.308485  0.112959  1.845124\n",
      "c -0.308485  0.112959  1.845124\n",
      "d -1.400140 -0.139221 -0.488573\n",
      "e -1.400140 -0.139221 -0.488573\n",
      "f -1.023274  0.176940  0.112514\n",
      "g  1.109154 -1.848553  1.436655\n",
      "h  1.109154 -1.848553  1.436655\n"
     ]
    },
    {
     "name": "stderr",
     "output_type": "stream",
     "text": [
      "C:\\Users\\TCS\\AppData\\Local\\Temp\\ipykernel_13640\\3893421300.py:5: FutureWarning: DataFrame.fillna with 'method' is deprecated and will raise in a future version. Use obj.ffill() or obj.bfill() instead.\n",
      "  print(df.fillna(method='pad'))\n",
      "C:\\Users\\TCS\\AppData\\Local\\Temp\\ipykernel_13640\\3893421300.py:7: FutureWarning: DataFrame.fillna with 'method' is deprecated and will raise in a future version. Use obj.ffill() or obj.bfill() instead.\n",
      "  print(df.fillna(method='bfill'))\n"
     ]
    }
   ],
   "source": [
    "df=pd.DataFrame(np.random.randn(5,3),index=['a','c','e','f','h'],columns=['one','two','three'])\n",
    "df=df.reindex(['a','b','c','d','e','f','g','h'])\n",
    "print(\"\\nOriginal DataFrame:\\n\",df)\n",
    "print(\"\\n NaN-Filled with forward values:\\n\")\n",
    "print(df.fillna(method='pad'))\n",
    "print(\"\\nNaN-Filled with Background values:\\n\")\n",
    "print(df.fillna(method='bfill'))"
   ]
  },
  {
   "cell_type": "code",
   "execution_count": 8,
   "id": "420b4598-d556-4c80-a8bf-38cd2e60be3a",
   "metadata": {},
   "outputs": [
    {
     "name": "stdout",
     "output_type": "stream",
     "text": [
      "\n",
      "Original Dataframe:\n",
      "         one       two     three\n",
      "a -0.775137 -0.098342  0.153622\n",
      "b       NaN       NaN       NaN\n",
      "c -0.351245 -1.842569 -0.105067\n",
      "d       NaN       NaN       NaN\n",
      "e -0.263037 -0.253034 -0.005100\n",
      "f -1.088925 -0.730709  1.654353\n",
      "g       NaN       NaN       NaN\n",
      "h  1.217844 -1.414430  0.263312\n",
      "\n",
      "NaN-with True fill:\n",
      "\n",
      "a    False\n",
      "b     True\n",
      "c    False\n",
      "d     True\n",
      "e    False\n",
      "f    False\n",
      "g     True\n",
      "h    False\n",
      "Name: one, dtype: bool\n"
     ]
    }
   ],
   "source": [
    "df=pd.DataFrame(np.random.randn(5,3),index=['a','c','e','f','h'],columns=['one','two','three'])\n",
    "df=df.reindex(['a','b','c','d','e','f','g','h'])\n",
    "print(\"\\nOriginal Dataframe:\\n\",df)\n",
    "print(\"\\nNaN-with True fill:\\n\")\n",
    "print(df['one'].isnull())"
   ]
  }
 ],
 "metadata": {
  "kernelspec": {
   "display_name": "Python 3 (ipykernel)",
   "language": "python",
   "name": "python3"
  },
  "language_info": {
   "codemirror_mode": {
    "name": "ipython",
    "version": 3
   },
   "file_extension": ".py",
   "mimetype": "text/x-python",
   "name": "python",
   "nbconvert_exporter": "python",
   "pygments_lexer": "ipython3",
   "version": "3.11.7"
  }
 },
 "nbformat": 4,
 "nbformat_minor": 5
}
