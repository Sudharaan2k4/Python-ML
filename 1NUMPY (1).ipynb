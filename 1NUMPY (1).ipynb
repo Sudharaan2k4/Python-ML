{
 "cells": [
  {
   "cell_type": "code",
   "execution_count": 24,
   "id": "2a7276ee-b70d-4ec9-b410-1890fd42e1ec",
   "metadata": {},
   "outputs": [
    {
     "name": "stdout",
     "output_type": "stream",
     "text": [
      "The elements in the array/n[[0. 0. 0. 0.]\n",
      " [0. 0. 0. 0.]\n",
      " [0. 0. 0. 0.]]\n"
     ]
    }
   ],
   "source": [
    "import numpy as n\n",
    "m=n.array([[1,2,3,4],[1,2,3,4],[2,3,4,5],[2,5,6,7]])\n",
    "r=n.zeros((3,4))\n",
    "print(f'The elements in the array:{r}')"
   ]
  },
  {
   "cell_type": "code",
   "execution_count": 25,
   "id": "59ff82ed-772a-4433-95a1-931c3a5b1314",
   "metadata": {},
   "outputs": [
    {
     "name": "stdout",
     "output_type": "stream",
     "text": [
      "[[2 2 2]\n",
      " [2 2 2]\n",
      " [2 2 2]]\n"
     ]
    }
   ],
   "source": [
    "x=n.full((3,3),2)\n",
    "print(x)"
   ]
  },
  {
   "cell_type": "code",
   "execution_count": 74,
   "id": "cdd06745-8df7-40c0-8402-903d8f0af8f2",
   "metadata": {},
   "outputs": [
    {
     "name": "stdout",
     "output_type": "stream",
     "text": [
      "[[0.99370044 0.62185527]\n",
      " [0.14024674 0.64875373]\n",
      " [0.39044143 0.55256431]]\n"
     ]
    }
   ],
   "source": [
    "q=n.random.random((3,2))\n",
    "print(q)"
   ]
  },
  {
   "cell_type": "code",
   "execution_count": 36,
   "id": "e26dbcc3-9832-4bed-aa5d-51e8950aed3a",
   "metadata": {},
   "outputs": [
    {
     "name": "stdout",
     "output_type": "stream",
     "text": [
      "[ 5 10 15 20 25 30 35 40 45]\n"
     ]
    }
   ],
   "source": [
    "q1=n.arange(5,50,5)\n",
    "print(q1)\n"
   ]
  },
  {
   "cell_type": "code",
   "execution_count": 43,
   "id": "2f411a6a-3e9f-452c-8f22-aa3f6b8c5b46",
   "metadata": {},
   "outputs": [
    {
     "name": "stdout",
     "output_type": "stream",
     "text": [
      "[[0.78141956 0.12968031 0.66631671]\n",
      " [0.28345055 0.770646   0.09219495]\n",
      " [0.36286302 0.74850029 0.35166574]\n",
      " [0.7585088  0.72824548 0.00196387]]\n"
     ]
    }
   ],
   "source": [
    "w=q.reshape(4,3)\n",
    "print(w)"
   ]
  },
  {
   "cell_type": "code",
   "execution_count": 45,
   "id": "7a203f82-d768-4c02-95a2-6d981249eb45",
   "metadata": {},
   "outputs": [
    {
     "name": "stdout",
     "output_type": "stream",
     "text": [
      "[0.78141956 0.12968031 0.66631671 0.28345055 0.770646   0.09219495\n",
      " 0.36286302 0.74850029 0.35166574 0.7585088  0.72824548 0.00196387]\n",
      "2\n"
     ]
    }
   ],
   "source": [
    "print(w.flatten())\n",
    "print(w.ndim)"
   ]
  },
  {
   "cell_type": "code",
   "execution_count": 47,
   "id": "79ab8bbf-1ab5-4b76-b4d7-2f71970af38f",
   "metadata": {},
   "outputs": [
    {
     "name": "stdout",
     "output_type": "stream",
     "text": [
      "(4, 3)\n"
     ]
    }
   ],
   "source": [
    "print(w.shape)\n"
   ]
  },
  {
   "cell_type": "code",
   "execution_count": 49,
   "id": "953c7968-9b79-4db9-bf34-381a8e1c3784",
   "metadata": {},
   "outputs": [
    {
     "name": "stdout",
     "output_type": "stream",
     "text": [
      "12\n",
      "float64\n"
     ]
    }
   ],
   "source": [
    "print(w.size)\n",
    "print(w.dtype)\n"
   ]
  },
  {
   "cell_type": "code",
   "execution_count": 53,
   "id": "519a529c-c34b-474d-94d8-838e963e583e",
   "metadata": {},
   "outputs": [
    {
     "name": "stdout",
     "output_type": "stream",
     "text": [
      "[[0 0 0]\n",
      " [0 0 0]\n",
      " [0 0 0]\n",
      " [0 0 0]]\n"
     ]
    }
   ],
   "source": [
    "g=w.astype('i')\n",
    "print(g)"
   ]
  },
  {
   "cell_type": "code",
   "execution_count": 77,
   "id": "270cf3ad-6943-4597-8001-0617075cc8a4",
   "metadata": {},
   "outputs": [
    {
     "name": "stdout",
     "output_type": "stream",
     "text": [
      "[[1 2 3 4]\n",
      " [2 3 4 5]]\n"
     ]
    }
   ],
   "source": [
    "print(m[0:3:2])"
   ]
  },
  {
   "cell_type": "code",
   "execution_count": 75,
   "id": "bf3a0023-7d40-4db3-9983-451065745f32",
   "metadata": {},
   "outputs": [
    {
     "name": "stdout",
     "output_type": "stream",
     "text": [
      "[3 4 5]\n"
     ]
    }
   ],
   "source": [
    "print(m[2,1:4])\n",
    "\n"
   ]
  },
  {
   "cell_type": "code",
   "execution_count": 78,
   "id": "de0800c6-3f49-4b5d-a821-c514094b526a",
   "metadata": {},
   "outputs": [
    {
     "name": "stdout",
     "output_type": "stream",
     "text": [
      "[4 4 5]\n"
     ]
    }
   ],
   "source": [
    "print(m[:,3])\n"
   ]
  },
  {
   "cell_type": "code",
   "execution_count": null,
   "id": "6fbe7801-4fd5-4524-9888-2a7f64e19392",
   "metadata": {},
   "outputs": [],
   "source": [
    "///NUMPY2///\n"
   ]
  },
  {
   "cell_type": "code",
   "execution_count": 2,
   "id": "e61307eb-e43f-44f4-bfe8-d4d2c8e40420",
   "metadata": {},
   "outputs": [
    {
     "name": "stdout",
     "output_type": "stream",
     "text": [
      "[[ 0.  -1.   2.5  3. ]]\n"
     ]
    }
   ],
   "source": [
    "import numpy as np\n",
    "arr=np.array([[0,-1,2.5,3],[4,5,6,7],[11.7,6.9,65,8],[9,10,11,108]])\n",
    "print(arr[0:2:4])\n"
   ]
  },
  {
   "cell_type": "code",
   "execution_count": 3,
   "id": "50255e40-fbdb-4b54-a023-bc6e140f0f39",
   "metadata": {},
   "outputs": [
    {
     "name": "stdout",
     "output_type": "stream",
     "text": [
      "[[ 0. -1.]]\n"
     ]
    }
   ],
   "source": [
    "temp=arr[:1,:2]\n",
    "print(temp)"
   ]
  },
  {
   "cell_type": "code",
   "execution_count": 5,
   "id": "779e89b2-8c4c-42d4-bac7-92f5f60b88fc",
   "metadata": {},
   "outputs": [
    {
     "name": "stdout",
     "output_type": "stream",
     "text": [
      "[3.  6.  6.9 9. ]\n"
     ]
    }
   ],
   "source": [
    "temp1=arr[[0,1,2,3],[3,2,1,0]]\n",
    "print(temp1)"
   ]
  },
  {
   "cell_type": "code",
   "execution_count": 6,
   "id": "cf8637ae-ee9f-435f-bb9a-00c3101596db",
   "metadata": {},
   "outputs": [
    {
     "name": "stdout",
     "output_type": "stream",
     "text": [
      "[  2.5   3.    4.    5.    6.    7.   11.7   6.9  65.    8.    9.   10.\n",
      "  11.  108. ]\n"
     ]
    }
   ],
   "source": [
    "condition=arr>2\n",
    "temp2=arr[condition]\n",
    "print(temp2)"
   ]
  },
  {
   "cell_type": "code",
   "execution_count": 8,
   "id": "b13f2c1f-c86b-4c1f-8f8b-66e3d9f219d1",
   "metadata": {},
   "outputs": [
    {
     "name": "stdout",
     "output_type": "stream",
     "text": [
      "[1 5]\n"
     ]
    }
   ],
   "source": [
    "arr1=np.array([1,2,3,4,5,6,7])\n",
    "print(arr1[::4])"
   ]
  },
  {
   "cell_type": "code",
   "execution_count": 11,
   "id": "cbe89684-0640-489b-a44d-9bd14ed8a742",
   "metadata": {},
   "outputs": [
    {
     "name": "stdout",
     "output_type": "stream",
     "text": [
      "[1 2 3 4 5 6 7 8]\n"
     ]
    }
   ],
   "source": [
    "arr2=np.array([1,2,3,4])\n",
    "arr3=np.array([5,6,7,8])\n",
    "ar=np.concatenate((arr2,arr3))\n",
    "print(ar)"
   ]
  },
  {
   "cell_type": "code",
   "execution_count": 12,
   "id": "196a7aad-cc45-4f34-a67f-d36123615478",
   "metadata": {},
   "outputs": [
    {
     "name": "stdout",
     "output_type": "stream",
     "text": [
      "[1 2 3 4 5 6 7 8]\n",
      "[[1 2 3 4]\n",
      " [5 6 7 8]]\n",
      "[[[1 5]\n",
      "  [2 6]\n",
      "  [3 7]\n",
      "  [4 8]]]\n"
     ]
    }
   ],
   "source": [
    "hori=np.hstack((arr2,arr3))\n",
    "print(hori)\n",
    "vert=np.vstack((arr2,arr3))\n",
    "print(vert)\n",
    "stac=np.dstack((arr2,arr3))\n",
    "print(stac)\n"
   ]
  },
  {
   "cell_type": "code",
   "execution_count": 14,
   "id": "b6c812d3-69cb-4a09-a9ac-7505919e664d",
   "metadata": {},
   "outputs": [
    {
     "name": "stdout",
     "output_type": "stream",
     "text": [
      "[array([1, 2, 3]), array([4, 5]), array([6, 7])]\n"
     ]
    }
   ],
   "source": [
    "d=np.array_split(arr1,3)\n",
    "print(d)"
   ]
  },
  {
   "cell_type": "code",
   "execution_count": null,
   "id": "10d1358d-27a8-432f-a492-27f43ea90731",
   "metadata": {},
   "outputs": [],
   "source": [
    "/////////////////////////////////////////////////////////////////"
   ]
  },
  {
   "cell_type": "code",
   "execution_count": null,
   "id": "f1cf0d25-b30f-4165-8139-40d15983945a",
   "metadata": {},
   "outputs": [],
   "source": [
    "NUMPY3\n"
   ]
  },
  {
   "cell_type": "code",
   "execution_count": 16,
   "id": "c115e4a4-70ed-4e92-a59f-95f3b9dee20b",
   "metadata": {},
   "outputs": [
    {
     "name": "stdout",
     "output_type": "stream",
     "text": [
      "[1 2 3 4 5 6 4]\n",
      "(array([3, 6], dtype=int64),)\n"
     ]
    }
   ],
   "source": [
    "import numpy as np\n",
    "arr=np.array([1,2,3,4,5,6,4])\n",
    "print(arr)\n",
    "x=np.where(arr==4)\n",
    "print(x)\n"
   ]
  },
  {
   "cell_type": "code",
   "execution_count": 18,
   "id": "ea0e0cb0-9c79-422d-ae67-3292f1ac0124",
   "metadata": {},
   "outputs": [
    {
     "name": "stdout",
     "output_type": "stream",
     "text": [
      "(array([1, 3, 5, 7], dtype=int64),)\n"
     ]
    }
   ],
   "source": [
    "arr1=np.array([1,2,3,4,5,6,7,8])\n",
    "e=np.where(arr1%2==0)\n",
    "print(e)"
   ]
  },
  {
   "cell_type": "code",
   "execution_count": 21,
   "id": "ae058f86-801a-4805-a9ce-6ea804c667ce",
   "metadata": {},
   "outputs": [
    {
     "name": "stdout",
     "output_type": "stream",
     "text": [
      "2\n"
     ]
    }
   ],
   "source": [
    "q=np.searchsorted(arr,3,'left')\n",
    "print(q)"
   ]
  },
  {
   "cell_type": "code",
   "execution_count": 22,
   "id": "dd754093-9f67-4aea-b185-f3e4c3710ad4",
   "metadata": {},
   "outputs": [
    {
     "name": "stdout",
     "output_type": "stream",
     "text": [
      "[0 1 2 3]\n"
     ]
    }
   ],
   "source": [
    "a=np.array([3,2,1,0])\n",
    "print(np.sort(a))\n"
   ]
  },
  {
   "cell_type": "code",
   "execution_count": 23,
   "id": "5a218a16-9e55-465c-841b-f038bab234e8",
   "metadata": {},
   "outputs": [
    {
     "name": "stdout",
     "output_type": "stream",
     "text": [
      "[41 43]\n"
     ]
    }
   ],
   "source": [
    "b=np.array([41,42,43,44])\n",
    "c=[True,False,True,False]\n",
    "newarr=b[c]\n",
    "print(newarr)"
   ]
  },
  {
   "cell_type": "code",
   "execution_count": 25,
   "id": "36f9c832-e6bb-4f97-9930-2aeb63b0ad90",
   "metadata": {},
   "outputs": [
    {
     "name": "stdout",
     "output_type": "stream",
     "text": [
      "[False False  True  True  True  True]\n"
     ]
    }
   ],
   "source": [
    "we=np.array([41,42,43,45,59,63])\n",
    "filter=we>42\n",
    "wer=we[filter]\n",
    "print(filter)"
   ]
  },
  {
   "cell_type": "code",
   "execution_count": null,
   "id": "2a657b5d-6f28-4393-adf2-cce9f5b4848d",
   "metadata": {},
   "outputs": [],
   "source": [
    "/////////////////////////////////////////////////////////////////////////////////////////"
   ]
  },
  {
   "cell_type": "code",
   "execution_count": null,
   "id": "d347cf33-4f62-4ad1-9ed9-e130ef0533d2",
   "metadata": {},
   "outputs": [],
   "source": [
    "NUMPY 4"
   ]
  },
  {
   "cell_type": "code",
   "execution_count": 26,
   "id": "4a09619e-2882-4225-8c85-07a06c0f03db",
   "metadata": {},
   "outputs": [
    {
     "name": "stdout",
     "output_type": "stream",
     "text": [
      "[10 20 30 40 50] [ 2  4  5  8 10]\n"
     ]
    }
   ],
   "source": [
    "import numpy as np\n",
    "arr1=[10,20,30,40,50]\n",
    "arr2=[2,4,5,8,10]\n",
    "a=np.array(arr1)\n",
    "b=np.array(arr2)\n",
    "print(a,b)"
   ]
  },
  {
   "cell_type": "code",
   "execution_count": 27,
   "id": "fa950c5e-11d2-4443-be12-f222871524ef",
   "metadata": {},
   "outputs": [
    {
     "name": "stdout",
     "output_type": "stream",
     "text": [
      "[12 24 35 48 60]\n"
     ]
    }
   ],
   "source": [
    "print(a+b)#Addition"
   ]
  },
  {
   "cell_type": "code",
   "execution_count": 28,
   "id": "f79a66df-9ce7-423c-a6db-69d0d1722ea7",
   "metadata": {},
   "outputs": [
    {
     "name": "stdout",
     "output_type": "stream",
     "text": [
      "[ 8 16 25 32 40]\n"
     ]
    }
   ],
   "source": [
    "print(a-b)#Subtraction"
   ]
  },
  {
   "cell_type": "code",
   "execution_count": 29,
   "id": "f3663159-c840-4e29-aefa-ace7bf9c3e96",
   "metadata": {},
   "outputs": [
    {
     "name": "stdout",
     "output_type": "stream",
     "text": [
      "[ 20  80 150 320 500]\n"
     ]
    }
   ],
   "source": [
    "print(a*b)#Multiplication"
   ]
  },
  {
   "cell_type": "code",
   "execution_count": 30,
   "id": "34f4024c-16bc-4e9c-912d-85744276a55b",
   "metadata": {},
   "outputs": [
    {
     "name": "stdout",
     "output_type": "stream",
     "text": [
      "[5. 5. 6. 5. 5.]\n"
     ]
    }
   ],
   "source": [
    "print(a/b)#Division"
   ]
  },
  {
   "cell_type": "code",
   "execution_count": 31,
   "id": "ab66b0d1-d3aa-460d-9cb3-4550e5808f93",
   "metadata": {},
   "outputs": [
    {
     "name": "stdout",
     "output_type": "stream",
     "text": [
      "[ 50 100 150 200 250]\n"
     ]
    }
   ],
   "source": [
    "scl=5#Scalar Multiplication\n",
    "print(a*scl)\n"
   ]
  },
  {
   "cell_type": "code",
   "execution_count": 34,
   "id": "e568dd1b-5291-4290-a43e-d68dc81df275",
   "metadata": {},
   "outputs": [
    {
     "name": "stdout",
     "output_type": "stream",
     "text": [
      "[ 8  1 50]\n"
     ]
    }
   ],
   "source": [
    "def my_func(x,y):\n",
    "    if x>y:\n",
    "        return x-y\n",
    "    else:\n",
    "        return x+y\n",
    "a1=[10,4,20]\n",
    "a2=[2,3,30]\n",
    "vec=np.vectorize(my_func)\n",
    "print(vec(a1,a2))"
   ]
  },
  {
   "cell_type": "code",
   "execution_count": null,
   "id": "eb63a617-3deb-4b1e-a06e-86c80e258041",
   "metadata": {},
   "outputs": [],
   "source": [
    "//////////////////////////////////////////////////////////////////////////////////////////////////////////////////////////////////////////////////////////////////////////////////\n"
   ]
  },
  {
   "cell_type": "code",
   "execution_count": null,
   "id": "d7c0f607-2c88-4705-a473-81c2050b1f37",
   "metadata": {},
   "outputs": [],
   "source": []
  },
  {
   "cell_type": "code",
   "execution_count": null,
   "id": "d4f1abd1-9951-484f-aa90-66ab56cdb447",
   "metadata": {},
   "outputs": [],
   "source": []
  }
 ],
 "metadata": {
  "kernelspec": {
   "display_name": "Python 3 (ipykernel)",
   "language": "python",
   "name": "python3"
  },
  "language_info": {
   "codemirror_mode": {
    "name": "ipython",
    "version": 3
   },
   "file_extension": ".py",
   "mimetype": "text/x-python",
   "name": "python",
   "nbconvert_exporter": "python",
   "pygments_lexer": "ipython3",
   "version": "3.11.7"
  }
 },
 "nbformat": 4,
 "nbformat_minor": 5
}
