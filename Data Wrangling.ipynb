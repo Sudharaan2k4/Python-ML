{
 "cells": [
  {
   "cell_type": "code",
   "execution_count": 5,
   "id": "54e8a0a0-23fe-4005-a9a9-f86c2910c984",
   "metadata": {},
   "outputs": [
    {
     "name": "stdout",
     "output_type": "stream",
     "text": [
      "Original DataFrame1:\n",
      "     name  age\n",
      "0  Sally   50\n",
      "1   Mary   40\n",
      "2   John   30\n",
      "Original DataFrame2:\n",
      "    qualified\n",
      "0       True\n",
      "1      False\n",
      "2      False\n",
      "\n",
      " Combination of DF 1 and 2\n",
      "     name  age  qualified\n",
      "0  Sally   50       True\n",
      "1   Mary   40      False\n",
      "2   John   30      False\n"
     ]
    }
   ],
   "source": [
    "\"\"\"Data Wrangling 1\"\"\"\n",
    "import pandas as pd\n",
    "data1={\"name\":[\"Sally\",\"Mary\",\"John\"],\"age\":[50,40,30]}\n",
    "data2={\"qualified\":[True,False,False]}\n",
    "df1=pd.DataFrame(data1)\n",
    "print(\"Original DataFrame1:\\n\",df1)\n",
    "df2=pd.DataFrame(data2)\n",
    "print(\"Original DataFrame2:\\n\",df2)\n",
    "newdf=df1.join(df2)\n",
    "print(\"\\n Combination of DF 1 and 2\\n\",newdf)"
   ]
  },
  {
   "cell_type": "code",
   "execution_count": 4,
   "id": "5c6be99d-46fa-4eee-8890-129b2ba5491d",
   "metadata": {},
   "outputs": [
    {
     "name": "stdout",
     "output_type": "stream",
     "text": [
      "original 1\n",
      "    0  1\n",
      "0  1  2\n",
      "1  3  4\n",
      "original 2\n",
      "    0  1\n",
      "0  5  6\n",
      "1  7  8\n",
      "combine 1 and 2 using combine function with condition\n",
      "    0  1\n",
      "0  5  6\n",
      "1  7  8\n"
     ]
    }
   ],
   "source": [
    "import pandas as pd\n",
    "df1=pd.DataFrame([[1,2],[3,4]])\n",
    "df2=pd.DataFrame([[5,6],[7,8]])\n",
    "def myfunc(a,b):\n",
    "    if(a.sum()>b.sum()):\n",
    "        return a\n",
    "    else:\n",
    "        return b\n",
    "print(\"original 1\\n\",df1)\n",
    "print(\"original 2\\n\",df2)\n",
    "print(\"combine 1 and 2 using combine function with condition\\n\",df1.combine(df2,myfunc))\n"
   ]
  },
  {
   "cell_type": "code",
   "execution_count": 6,
   "id": "1e5c3a56-a3f3-48e5-883c-8f8d00017e16",
   "metadata": {},
   "outputs": [
    {
     "name": "stdout",
     "output_type": "stream",
     "text": [
      "\n",
      " Original 1:\n",
      "     name  age\n",
      "0  Sally   50\n",
      "1   Mary   40\n",
      "2   John   30\n",
      "\n",
      " Original 2:\n",
      "      name  age\n",
      "0    Sane   77\n",
      "1    Pete   44\n",
      "2  Mickey   22\n",
      "Merged operation:\n",
      "      name  age\n",
      "0    Sane   77\n",
      "1    Pete   44\n",
      "2  Mickey   22\n"
     ]
    }
   ],
   "source": [
    "import pandas as pd\n",
    "data1={\"name\":[\"Sally\",\"Mary\",\"John\"],\"age\":[50,40,30]}\n",
    "data2={\"name\":[\"Sane\",\"Pete\",\"Mickey\"],\"age\":[77,44,22]}\n",
    "df1=pd.DataFrame(data1)\n",
    "df2=pd.DataFrame(data2)\n",
    "print(\"\\n Original 1:\\n\",df1)\n",
    "print(\"\\n Original 2:\\n\",df2)\n",
    "newdf=df1.merge(df2,how='right')\n",
    "print(\"Merged operation:\\n\",newdf)"
   ]
  },
  {
   "cell_type": "code",
   "execution_count": 8,
   "id": "cdc0d8e2-0790-4d7b-ab0a-a043d69848f3",
   "metadata": {},
   "outputs": [
    {
     "name": "stdout",
     "output_type": "stream",
     "text": [
      "original\n",
      "   team  points  assists  rebounds\n",
      "0    A      88       12        22\n",
      "1    B      91       34        33\n",
      "2    C      99       56        44\n",
      "3    D      93       78        55\n",
      "\n",
      " Reshaped DF:\n",
      "    team  variable  value\n",
      "0     A    points     88\n",
      "1     B    points     91\n",
      "2     C    points     99\n",
      "3     D    points     93\n",
      "4     A   assists     12\n",
      "5     B   assists     34\n",
      "6     C   assists     56\n",
      "7     D   assists     78\n",
      "8     A  rebounds     22\n",
      "9     B  rebounds     33\n",
      "10    C  rebounds     44\n",
      "11    D  rebounds     55\n"
     ]
    }
   ],
   "source": [
    "import pandas as pd\n",
    "df=pd.DataFrame({'team':['A','B','C','D'],'points':[88,91,99,93],'assists':[12,34,56,78],'rebounds':[22,33,44,55]})\n",
    "print(\"original\\n\",df)\n",
    "#reshaping\n",
    "df=pd.melt(df,id_vars='team',value_vars=['points','assists','rebounds'])\n",
    "print(\"\\n Reshaped DF:\\n\",df)"
   ]
  },
  {
   "cell_type": "code",
   "execution_count": 19,
   "id": "0534b0ff-eaa6-4332-aaf6-a4cff3b07f4d",
   "metadata": {},
   "outputs": [
    {
     "name": "stdout",
     "output_type": "stream",
     "text": [
      "Original DataFrame:\n",
      "      Name  Age Gender Marks\n",
      "0     Jai   19      M    90\n",
      "1  Prince   20      F   NaN\n",
      "2    Mark   20      M    97\n",
      "\n",
      "replacing NaN with average marks:\n",
      "      Name  Age Gender  Marks\n",
      "0     Jai   19      M   90.0\n",
      "1  Prince   20      F   93.5\n",
      "2    Mark   20      M   97.0\n",
      "\n",
      " Filtered and Dropped function:\n",
      "      Name Gender  Marks\n",
      "1  Prince      F   93.5\n",
      "2    Mark      M   97.0\n",
      "\n",
      "DataFrame1:\n",
      "      Name Gender  Marks\n",
      "1  Prince      F   93.5\n",
      "2    Mark      M   97.0\n",
      "\n",
      "DataFrame2\n",
      "    Name  Age Gender  Marks\n",
      "0   Jap   23      M     90\n",
      "1  Park   22      F     89\n",
      "2   Moe   25      M     97\n",
      "\n",
      " Concatenation\n",
      "      Name Gender  Marks   Age\n",
      "1  Prince      F   93.5   NaN\n",
      "2    Mark      M   97.0   NaN\n",
      "0     Jap      M   90.0  23.0\n",
      "1    Park      F   89.0  22.0\n",
      "2     Moe      M   97.0  25.0\n"
     ]
    }
   ],
   "source": [
    "\"\"\"Data Wrangling 2\"\"\"\n",
    "data={'Name':['Jai','Prince','Mark'],'Age':[19,20,20],'Gender':['M','F','M'],'Marks':[90,'NaN',97]}\n",
    "df=pd.DataFrame(data)\n",
    "print(\"Original DataFrame:\\n\",df)\n",
    "c=avg=0\n",
    "for ele in df['Marks']:\n",
    "    if str(ele).isnumeric():\n",
    "        c+=1\n",
    "        avg+=ele\n",
    "avg/=c\n",
    "df=df.replace(to_replace=\"NaN\",value=avg)\n",
    "print(\"\\nreplacing NaN with average marks:\\n\",df)\n",
    "\n",
    "#Filter\n",
    "df=df[df['Marks']>=91]\n",
    "#Remove age row\n",
    "df=df.drop(['Age'],axis=1)\n",
    "#Display data\n",
    "print(\"\\n Filtered and Dropped function:\\n\",df)\n",
    "\n",
    "\n",
    "data1={'Name':['Jap','Park','Moe'],'Age':[23,22,25],'Gender':['M','F','M'],'Marks':[90,89,97]}\n",
    "d1=pd.DataFrame(data1)\n",
    "print(\"\\nDataFrame1:\\n\",df)\n",
    "print(\"\\nDataFrame2\\n\",d1)\n",
    "#Concatenate\n",
    "print(\"\\n Concatenation\\n\",pd.concat([df,d1]))"
   ]
  },
  {
   "cell_type": "code",
   "execution_count": 23,
   "id": "e03385e1-b005-4919-94ba-1517af6dd5c9",
   "metadata": {},
   "outputs": [
    {
     "name": "stdout",
     "output_type": "stream",
     "text": [
      "  Brand  Year  Sold\n",
      "0   BMW  2019     5\n",
      "1  MERC  2020     6\n",
      "2  AUDI  2012     7\n",
      "3   BMW  2019     5\n",
      "4  MERC  2020     6\n",
      "5  AUDI  2012     7\n",
      "\n",
      "Grouping the year 201   Brand  Year  Sold\n",
      "0   BMW  2019     5\n",
      "3   BMW  2019     5\n"
     ]
    }
   ],
   "source": [
    "\"\"\"Data Wrangling 3\"\"\"\n",
    "import pandas as pd\n",
    "cardata={'Brand':['BMW','MERC','AUDI','BMW','MERC','AUDI'],'Year':[2019,2020,2012,2019,2020,2012],'Sold':[5,6,7,5,6,7]}\n",
    "df=pd.DataFrame(cardata)\n",
    "print(df)\n",
    "#Group data when year=2019\n",
    "group1=df.groupby('Year')\n",
    "print(\"\\nGrouping the year 2019\\b\",group1.get_group(2019))\n"
   ]
  },
  {
   "cell_type": "code",
   "execution_count": 29,
   "id": "58d252e6-b90f-440f-ac32-17dfb215a905",
   "metadata": {},
   "outputs": [
    {
     "name": "stdout",
     "output_type": "stream",
     "text": [
      "   Name  Age Gender  Marks\n",
      "0   Jap   23      M     90\n",
      "1  Park   22      F     89\n",
      "2   Moe   25      M     97\n",
      "3  MArk   24      M     90\n",
      "4   Tez   32      F     91\n",
      "5  Park   32      F     89\n",
      "6   Moe   25      M     97\n",
      "\n",
      "Eliminating the duplicate\n",
      "\n",
      "\n",
      "Pure Date\n",
      "    Name  Age Gender  Marks\n",
      "0   Jap   23      M     90\n",
      "1  Park   22      F     89\n",
      "2   Moe   25      M     97\n",
      "3  MArk   24      M     90\n",
      "4   Tez   32      F     91\n"
     ]
    }
   ],
   "source": [
    "data1={'Name':['Jap','Park','Moe','MArk','Tez','Park','Moe'],'Age':[23,22,25,24,32,32,25],'Gender':['M','F','M','M','F','F','M'],'Marks':[90,89,97,90,91,89,97]}\n",
    "df=pd.DataFrame(data1)\n",
    "print(df)\n",
    "print(\"\\nEliminating the duplicate\\n\")\n",
    "puredata=df[~df.duplicated('Age')]\n",
    "print(\"\\nPure Date\\n\",puredata)\n"
   ]
  },
  {
   "cell_type": "code",
   "execution_count": 32,
   "id": "f095882a-dbb8-4669-87c9-3c98ed5e9bac",
   "metadata": {},
   "outputs": [
    {
     "name": "stdout",
     "output_type": "stream",
     "text": [
      "   ID  Name Branch\n",
      "0   1   Tez   Mech\n",
      "1   2   Rex    EEE\n",
      "2   3  Zuck    Ece\n",
      "3   4    Po     FT\n",
      "4   5    Ip     BT\n",
      "   ID Pending\n",
      "0   1     300\n",
      "1   2     nil\n",
      "2   3     900\n",
      "3   4    1000\n",
      "4   5      80\n",
      "\n",
      "Mereged DataFrame\n",
      "    ID  Name Branch Pending\n",
      "0   1   Tez   Mech     300\n",
      "1   2   Rex    EEE     nil\n",
      "2   3  Zuck    Ece     900\n",
      "3   4    Po     FT    1000\n",
      "4   5    Ip     BT      80\n"
     ]
    }
   ],
   "source": [
    "dat1=pd.DataFrame({'ID':[1,2,3,4,5],'Name':['Tez','Rex','Zuck','Po','Ip'],'Branch':[\"Mech\",\"EEE\",\"Ece\",\"FT\",\"BT\"]})\n",
    "print(dat1)\n",
    "fee=pd.DataFrame({'ID':[1,2,3,4,5],\"Pending\":['300','nil','900','1000','80']})\n",
    "print(fee)\n",
    "print(\"\\nMereged DataFrame\\n\",pd.merge(dat1,fee,on='ID'))"
   ]
  }
 ],
 "metadata": {
  "kernelspec": {
   "display_name": "Python 3 (ipykernel)",
   "language": "python",
   "name": "python3"
  },
  "language_info": {
   "codemirror_mode": {
    "name": "ipython",
    "version": 3
   },
   "file_extension": ".py",
   "mimetype": "text/x-python",
   "name": "python",
   "nbconvert_exporter": "python",
   "pygments_lexer": "ipython3",
   "version": "3.11.7"
  }
 },
 "nbformat": 4,
 "nbformat_minor": 5
}
